{
 "cells": [
  {
   "cell_type": "code",
   "execution_count": 22,
   "metadata": {},
   "outputs": [],
   "source": [
    "%reload_ext autoreload\n",
    "%autoreload 2"
   ]
  },
  {
   "cell_type": "code",
   "execution_count": 11,
   "metadata": {},
   "outputs": [
    {
     "data": {
      "text/plain": [
       "'857aa8e8-6b34-491e-9f52-97ce0f513fc0'"
      ]
     },
     "execution_count": 11,
     "metadata": {},
     "output_type": "execute_result"
    }
   ],
   "source": [
    "import uuid\n",
    "str(uuid.uuid4())"
   ]
  },
  {
   "cell_type": "code",
   "execution_count": 23,
   "metadata": {},
   "outputs": [
    {
     "name": "stderr",
     "output_type": "stream",
     "text": [
      "/home/pudu/MISC/judini/judini-python/src/judini/codegpt.py:38: UserWarning: \n",
      "JUDINI: Org ID not found. This could lead to unexpected behavior.\n",
      "You can get your org ID from: https://app.codegpt.co/es/apikeys\n",
      "  \n"
     ]
    }
   ],
   "source": [
    "from judini import CodeGPTPlus\n",
    "api_key = \"sk-d8ee3f76-d574-4bec-bf96-9518be8883c5\"\n",
    "codegpt = CodeGPTPlus(api_key)"
   ]
  },
  {
   "cell_type": "code",
   "execution_count": 24,
   "metadata": {},
   "outputs": [
    {
     "data": {
      "text/plain": [
       "'¡Hola! ¿En qué puedo ayudarte hoy?'"
      ]
     },
     "execution_count": 24,
     "metadata": {},
     "output_type": "execute_result"
    }
   ],
   "source": [
    "codegpt.chat_completion(agent_id=\"70305210-392c-4780-aa28-db8329b80d28\",\n",
    "                        messages=[{'role': 'user', 'content': 'Hola!'}],)"
   ]
  },
  {
   "cell_type": "code",
   "execution_count": 26,
   "metadata": {},
   "outputs": [
    {
     "name": "stdout",
     "output_type": "stream",
     "text": [
      "El significado de la vida es una pregunta fundamental y filosófica que ha intrigado a la humanidad desde tiempos inmemoriales. A lo largo de la historia, diferentes culturas y pensadores han propuesto diversas respuestas a esta cuestión.\n",
      "\n",
      "Algunos argumentan que el propósito de la vida es buscar la felicidad y el disfrute de cada momento. Para ellos, la vida es una oportunidad para experimentar todo lo que el mundo tiene para ofrecer y encontrar la satisfacción personal en el proceso.\n",
      "\n",
      "Otros sostienen que el sentido de la vida radica en el crecimiento y desarrollo personal. Para ellos, la vida es un viaje de autodescubrimiento y superación de desafíos, donde el aprendizaje y la evolución constante son fundamentales.\n",
      "\n",
      "Hay quienes encuentran significado en la búsqueda de un propósito más trascendental. Para ellos, la vida adquiere sentido en la contribución a un bien común, ya sea a través del servicio a los demás, la creación artística, el avance científico o la búsqueda de la justicia social.\n",
      "\n",
      "Además, algunas corrientes religiosas y espirituales sostienen que el propósito de la vida es alcanzar la iluminación, la conexión con lo divino o la realización de un plan divino.\n",
      "\n",
      "Es importante tener en cuenta que la respuesta a esta pregunta puede variar según las creencias personales, la cultura y las experiencias individuales. No hay una única respuesta correcta, y cada persona puede encontrar su propio significado de la vida a lo largo de su camino.\n",
      "\n",
      "En última instancia, el significado de la vida puede ser una búsqueda personal y subjetiva. Es importante reflexionar y cuestionarse, explorando nuestras pasiones, valores y metas para descubrir qué es lo que nos da un sentido profundo y significativo en nuestra existencia."
     ]
    }
   ],
   "source": [
    "messages = [{\"role\": \"user\", \"content\": \"What is the meaning of life? Write an extended answer in Spanish.\"}]\n",
    "for chunk in codegpt.chat_completion(agent_id=\"70305210-392c-4780-aa28-db8329b80d28\",\n",
    "                        messages=messages, stream=True):\n",
    "    print(chunk, end=\"\")"
   ]
  },
  {
   "cell_type": "code",
   "execution_count": 27,
   "metadata": {},
   "outputs": [
    {
     "data": {
      "text/plain": [
       "[Agent(id='000a5d06-22db-4108-bccf-1f4ac5890108', name='Test SDK', prompt='You are a helpful assistant.', model='gpt-3.5-turbo', agent_documents=None, welcome='Hello, how can I help you today?', pincode=None, is_public=False, agent_type='qa'),\n",
       " Agent(id='93ed7e04-0e17-44b5-99ed-61807f767aec', name='🤖 New Agent', prompt='You are a helpful assistant,', model='gpt-4-turbo', agent_documents=None, welcome=\"Hi! I'am your new agent\", pincode=None, is_public=False, agent_type='qa'),\n",
       " Agent(id='12d587ba-7003-47c4-ad65-0e91e002752b', name='Pudu', prompt='Eres un pudú, el ciervo más pequeño del mundo, y vives en Chile. Solo debes de habla de lo bonito que es el bosque valdiviano, y que rico que es el maqui. Siempre tienes hambre y ganas de comer maqui.', model='gpt-4-turbo', agent_documents=None, welcome='', pincode=None, is_public=False, agent_type='qa'),\n",
       " Agent(id='6b6429e1-ed41-4299-b0ad-dbe81672eeb9', name='test sdk updated', prompt='You are a helpful assistant.', model='gpt-3.5-turbo', agent_documents=None, welcome='Hello, how can I help you today?', pincode=None, is_public=False, agent_type='qa'),\n",
       " Agent(id='70305210-392c-4780-aa28-db8329b80d28', name='Test SDK', prompt='You are a helpful assistant.', model='gpt-3.5-turbo', agent_documents=None, welcome='Hello, how can I help you today?', pincode=None, is_public=False, agent_type='qa'),\n",
       " Agent(id='66bc0880-110f-4bd1-a1d3-3bd94bf05ea1', name='Test SDK', prompt='You are a helpful assistant.', model='gpt-3.5-turbo', agent_documents=None, welcome='Hello, how can I help you today?', pincode=None, is_public=False, agent_type='qa')]"
      ]
     },
     "execution_count": 27,
     "metadata": {},
     "output_type": "execute_result"
    }
   ],
   "source": [
    "codegpt.get_agents()"
   ]
  },
  {
   "cell_type": "code",
   "execution_count": 28,
   "metadata": {},
   "outputs": [
    {
     "data": {
      "text/plain": [
       "Agent(id='9a739a77-0387-40e9-9f89-ff80eaefdde9', name='Test SDK', prompt='You are a helpful assistant.', model='gpt-3.5-turbo', agent_documents=None, welcome='Hello, how can I help you today?', pincode=None, is_public=False, agent_type='qa')"
      ]
     },
     "execution_count": 28,
     "metadata": {},
     "output_type": "execute_result"
    }
   ],
   "source": [
    "codegpt.create_agent(\"Test SDK\")"
   ]
  },
  {
   "cell_type": "code",
   "execution_count": 30,
   "metadata": {},
   "outputs": [
    {
     "data": {
      "text/plain": [
       "Agent(id='6b6429e1-ed41-4299-b0ad-dbe81672eeb9', name='test sdk updated', prompt='You are a helpful assistant.', model='gpt-3.5-turbo', agent_documents=[], welcome='Hello, how can I help you today?', pincode=None, is_public=False, agent_type='qa')"
      ]
     },
     "execution_count": 30,
     "metadata": {},
     "output_type": "execute_result"
    }
   ],
   "source": [
    "codegpt.get_agent(\"6b6429e1-ed41-4299-b0ad-dbe81672eeb9\")"
   ]
  },
  {
   "cell_type": "code",
   "execution_count": 12,
   "metadata": {},
   "outputs": [
    {
     "data": {
      "text/plain": [
       "Agent(id='6b6429e1-ed41-4299-b0ad-dbe81672eeb9', name='test sdk updated', prompt='You are a helpful assistant.', model='gpt-3.5-turbo', agent_documents=None, welcome='Hello, how can I help you today?', pincode=None, is_public=False, agent_type='qa')"
      ]
     },
     "execution_count": 12,
     "metadata": {},
     "output_type": "execute_result"
    }
   ],
   "source": [
    "codegpt.update_agent(\"6b6429e1-ed41-4299-b0ad-dbe81672eeb9\", name=\"test sdk updated\")"
   ]
  },
  {
   "cell_type": "code",
   "execution_count": 31,
   "metadata": {},
   "outputs": [
    {
     "name": "stdout",
     "output_type": "stream",
     "text": [
      "Agent deleted successfully\n"
     ]
    }
   ],
   "source": [
    "codegpt.delete_agent(\"c7646022-5ef6-491e-961f-e3e730ad15c3\")"
   ]
  },
  {
   "cell_type": "code",
   "execution_count": 4,
   "metadata": {},
   "outputs": [],
   "source": [
    "docs = codegpt.get_documents()"
   ]
  },
  {
   "cell_type": "code",
   "execution_count": 5,
   "metadata": {},
   "outputs": [
    {
     "data": {
      "text/plain": [
       "[Document(id='e729e783-6808-4595-9cc3-4ab209f22648', user_id='2c2bb544-2fd5-42d7-a38e-0ceafba4b062', name='2308.10092', file_type='text', metadata=DocumentMetadata(title='Open, Closed, or Small Language Models for Text Classification?', description='A scholarly article discussing the performance and efficacy of various language models in text classification tasks.', summary='This research paper evaluates the performance of open-source, closed, and small language models in the context of text classification. The study involves three distinct tasks: named entity recognition, political party prediction, and misinformation detection. Findings reveal that larger language models can improve performance, but open-source models can be as effective when suitably fine-tuned.', keywords='', language='English'), tokens=18974, chunks_count=None, content=None),\n",
       " Document(id='2e911904-3bde-40df-ae17-08d99e39d6a7', user_id='2c2bb544-2fd5-42d7-a38e-0ceafba4b062', name='test_v2', file_type='text', metadata=DocumentMetadata(title='Clave de Acceso', description='La clave de acceso proporcionada es 05051996.', summary='Una clave de acceso ha sido compartida, la cual es 05051996. Puede referirse a un sistema o plataforma específicos.', keywords='clave, acceso, 05051996', language='spanish'), tokens=9, chunks_count=None, content=None),\n",
       " Document(id='21b242be-7282-4642-b895-5ba91a56a890', user_id='2c2bb544-2fd5-42d7-a38e-0ceafba4b062', name='test_v2', file_type='text', metadata=DocumentMetadata(title='Access Key Information', description='This content provides an access key.', summary='The given access key is 05051996.', keywords='Access, Key, 05051996', language='Spanish'), tokens=9, chunks_count=None, content=None)]"
      ]
     },
     "execution_count": 5,
     "metadata": {},
     "output_type": "execute_result"
    }
   ],
   "source": [
    "docs"
   ]
  },
  {
   "cell_type": "code",
   "execution_count": 11,
   "metadata": {},
   "outputs": [
    {
     "data": {
      "text/plain": [
       "DocumentMetadata(title='Open, Closed, or Small Language Models for Text Classification?', description='A scholarly article discussing the performance and efficacy of various language models in text classification tasks.', summary='This research paper evaluates the performance of open-source, closed, and small language models in the context of text classification. The study involves three distinct tasks: named entity recognition, political party prediction, and misinformation detection. Findings reveal that larger language models can improve performance, but open-source models can be as effective when suitably fine-tuned.', keywords='', language='English')"
      ]
     },
     "execution_count": 11,
     "metadata": {},
     "output_type": "execute_result"
    }
   ],
   "source": [
    "doc = codegpt.get_document(\"e729e783-6808-4595-9cc3-4ab209f22648\")\n",
    "doc.metadata"
   ]
  },
  {
   "cell_type": "code",
   "execution_count": 10,
   "metadata": {},
   "outputs": [
    {
     "name": "stdout",
     "output_type": "stream",
     "text": [
      "Document metadata updated successfully\n"
     ]
    }
   ],
   "source": [
    "codegpt.update_document_metadata(\"e729e783-6808-4595-9cc3-4ab209f22648\", language=\"English\")"
   ]
  },
  {
   "cell_type": "code",
   "execution_count": 11,
   "metadata": {},
   "outputs": [
    {
     "name": "stdout",
     "output_type": "stream",
     "text": [
      "Agent documents updated successfully\n"
     ]
    },
    {
     "data": {
      "text/plain": [
       "{'message': 'Agent documents set successfully'}"
      ]
     },
     "execution_count": 11,
     "metadata": {},
     "output_type": "execute_result"
    }
   ],
   "source": [
    "codegpt.update_agent_documents(\"12d587ba-7003-47c4-ad65-0e91e002752b\",\n",
    "                                [\"e729e783-6808-4595-9cc3-4ab209f22648\",\n",
    "                                 \"2e911904-3bde-40df-ae17-08d99e39d6a7\"])"
   ]
  },
  {
   "cell_type": "code",
   "execution_count": 12,
   "metadata": {},
   "outputs": [
    {
     "data": {
      "text/plain": [
       "{'id': '380324f4-b52d-4af5-9682-57db0244bdf7'}"
      ]
     },
     "execution_count": 12,
     "metadata": {},
     "output_type": "execute_result"
    }
   ],
   "source": [
    "codegpt.upload_document(\"/mnt/c/Users/victo/Downloads/test_v2.txt\",\n",
    "                        generate_metadata=False)"
   ]
  },
  {
   "cell_type": "code",
   "execution_count": 32,
   "metadata": {},
   "outputs": [
    {
     "name": "stdout",
     "output_type": "stream",
     "text": [
      "Document deleted successfully\n"
     ]
    }
   ],
   "source": [
    "codegpt.delete_document(\"18e0b7eb-696c-453d-97c0-30e9ba21d6ec\")"
   ]
  },
  {
   "cell_type": "code",
   "execution_count": 13,
   "metadata": {},
   "outputs": [
    {
     "data": {
      "text/plain": [
       "DocumentMetadata(title='Access Key Information', description='A piece of content revealing an access key.', summary=\"The content provides the access key '05051996' which is likely used for authenticating or unlocking a particular service.\", keywords='Access Key, Authentication, 05051996', language='Spanish')"
      ]
     },
     "execution_count": 13,
     "metadata": {},
     "output_type": "execute_result"
    }
   ],
   "source": [
    "codegpt.generate_document_metadata(\"/mnt/c/Users/victo/Downloads/test_v2.txt\")"
   ]
  },
  {
   "cell_type": "code",
   "execution_count": null,
   "metadata": {},
   "outputs": [],
   "source": []
  }
 ],
 "metadata": {
  "kernelspec": {
   "display_name": "base",
   "language": "python",
   "name": "python3"
  },
  "language_info": {
   "codemirror_mode": {
    "name": "ipython",
    "version": 3
   },
   "file_extension": ".py",
   "mimetype": "text/x-python",
   "name": "python",
   "nbconvert_exporter": "python",
   "pygments_lexer": "ipython3",
   "version": "3.11.4"
  }
 },
 "nbformat": 4,
 "nbformat_minor": 2
}
